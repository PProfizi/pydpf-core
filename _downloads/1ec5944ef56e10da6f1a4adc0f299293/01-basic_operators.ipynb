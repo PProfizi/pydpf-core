{
  "cells": [
    {
      "cell_type": "code",
      "execution_count": null,
      "metadata": {
        "collapsed": false
      },
      "outputs": [],
      "source": [
        "%matplotlib inline"
      ]
    },
    {
      "cell_type": "markdown",
      "metadata": {},
      "source": [
        "Operators Overview {#ref_basic_operators_example}\n==================\n\nOverview of the usage of operators in DPF.\n\nOperators are primary method for interacting with and extracting\nresults. Within DPF-Core, these operators are directly exposed with the\n[Operators]{.title-ref} class as well as wrapped within several other\nconvenience classes.\n\nThis example demonstrates how to work directly with operators and\ncompares it to wrapped approach.\n"
      ]
    },
    {
      "cell_type": "code",
      "execution_count": null,
      "metadata": {
        "collapsed": false
      },
      "outputs": [],
      "source": [
        "from ansys.dpf import core as dpf\nfrom ansys.dpf.core import examples"
      ]
    },
    {
      "cell_type": "markdown",
      "metadata": {},
      "source": [
        "First, create a model object to establish a connection with an example\nresult file.\n"
      ]
    },
    {
      "cell_type": "code",
      "execution_count": null,
      "metadata": {
        "collapsed": false
      },
      "outputs": [],
      "source": [
        "model = dpf.Model(examples.static_rst)\nprint(model)"
      ]
    },
    {
      "cell_type": "markdown",
      "metadata": {},
      "source": [
        "Next, create a raw displacement operator `\"U\"`. Each operator contains\n`input` and `output` pins that can be connected to various sources, to\ninclude other operators. This allows operators to be \\\"chained\\\" to\nallow for highly efficient operations.\n\nHere, we print out the available inputs and outputs of the displacement\noperator.\n"
      ]
    },
    {
      "cell_type": "code",
      "execution_count": null,
      "metadata": {
        "collapsed": false
      },
      "outputs": [],
      "source": [
        "disp_op = dpf.Operator('U')\nprint(disp_op.inputs)\nprint(disp_op.outputs)"
      ]
    },
    {
      "cell_type": "markdown",
      "metadata": {},
      "source": [
        "Compute the Maximum Normalized Displacement\n===========================================\n\nHere, connect the input of the operator to the data sources contained\nwithin the `model` object and then the maximum of the norm of the\noperator to demonstrate how to chain various operators.\n"
      ]
    },
    {
      "cell_type": "code",
      "execution_count": null,
      "metadata": {
        "collapsed": false
      },
      "outputs": [],
      "source": [
        "# connect to the data sources of the model\ndisp_op.inputs.data_sources.connect(model.metadata.data_sources)\n\n# Create a field container norm operator and connect it to the\n# displacement operator to chain the operators.\nnorm_op = dpf.Operator('norm_fc')\nnorm_op.inputs.connect(disp_op.outputs)\n\n# create a field container min/max operator and connect it to the\n# output of the norm operator\nmm_op = dpf.Operator('min_max_fc')\nmm_op.inputs.connect(norm_op.outputs)\n\n# Finally, get the value of the maximum displacement\nfield_max = mm_op.outputs.field_max()\nprint(field_max)\nprint(field_max.data)"
      ]
    },
    {
      "cell_type": "markdown",
      "metadata": {},
      "source": [
        "Wrapped Operators\n=================\n\nThe `model.results` property contains all the wrapped operators\navailable for a given result. This is provided out of convenience as not\nall operators may be available for a given result and it is much easier\nto reference available operators by first running:\n"
      ]
    },
    {
      "cell_type": "code",
      "execution_count": null,
      "metadata": {
        "collapsed": false
      },
      "outputs": [],
      "source": [
        "print(model.results)"
      ]
    },
    {
      "cell_type": "markdown",
      "metadata": {},
      "source": [
        "Create the displacement operator directly from the `results` property\n"
      ]
    },
    {
      "cell_type": "code",
      "execution_count": null,
      "metadata": {
        "collapsed": false
      },
      "outputs": [],
      "source": [
        "disp_op = model.results.displacement()\n\n# Out of convenience, ``operators_helper`` contains special functions\n# that return the same type as the input.  In this case, we can easily\n# chain several operators and have their inputs and outputs\n# automatically connected.\nfrom ansys.dpf.core.operators_helper import min_max, norm\nmm_op = min_max(norm(disp_op))\n\n# Finally, get the value of the maximum displacement.\nfield_max = mm_op.outputs.field_max()\nprint(field_max)\nprint(field_max.data)"
      ]
    }
  ],
  "metadata": {
    "kernelspec": {
      "display_name": "Python 3",
      "language": "python",
      "name": "python3"
    },
    "language_info": {
      "codemirror_mode": {
        "name": "ipython",
        "version": 3
      },
      "file_extension": ".py",
      "mimetype": "text/x-python",
      "name": "python",
      "nbconvert_exporter": "python",
      "pygments_lexer": "ipython3",
      "version": "3.7.9"
    }
  },
  "nbformat": 4,
  "nbformat_minor": 0
}