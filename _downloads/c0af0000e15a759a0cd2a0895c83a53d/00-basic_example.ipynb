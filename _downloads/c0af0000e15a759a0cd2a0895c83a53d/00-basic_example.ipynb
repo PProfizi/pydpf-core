{
  "cells": [
    {
      "cell_type": "code",
      "execution_count": null,
      "metadata": {
        "collapsed": false
      },
      "outputs": [],
      "source": [
        "%matplotlib inline"
      ]
    },
    {
      "cell_type": "markdown",
      "metadata": {},
      "source": [
        "Basic DPF-Core Usage {#ref_basic_example}\n====================\n\nThis example shows how to open an example result file and do some basic\npost-processing.\n\nIf you have ANSYS 2021R1 installed, getting running DPF is quite easy as\n[ansys.dpf.core]{.title-ref} takes care of launching all the services\nrequired to start post-processing ANSYS files.\n\nFirst, import the DPF-Core module as [dpf\\_core]{.title-ref} and also\nimport the included examples file.\n"
      ]
    },
    {
      "cell_type": "code",
      "execution_count": null,
      "metadata": {
        "collapsed": false
      },
      "outputs": [],
      "source": [
        "from ansys.dpf import core as dpf\nfrom ansys.dpf.core import examples"
      ]
    },
    {
      "cell_type": "markdown",
      "metadata": {},
      "source": [
        "Next, open an example and then print out the `model` object. The `Model`\nclass helps to organize access methods for the result by keeping track\nof the operators and data sources used by the result file.\n\nPrinting the model displays: - Analysis type - Available results - Size\nof the mesh - Number of results\n\nAlso, note that the first time you create a DPF object, Python will\nautomatically attempt to start the server in the background. If you wish\nto connect to an existing server (either local or remote), use\n`dpf.connect_to_server()`\n"
      ]
    },
    {
      "cell_type": "code",
      "execution_count": null,
      "metadata": {
        "collapsed": false
      },
      "outputs": [],
      "source": [
        "model = dpf.Model(examples.simple_bar)\nprint(model)"
      ]
    },
    {
      "cell_type": "markdown",
      "metadata": {},
      "source": [
        "Model Metadata\n==============\n\nSpecific metadata can be extracted from the model by referencing the\n`metadata` property of the model. For example, just the result\\_info can\nbe printed with:\n"
      ]
    },
    {
      "cell_type": "code",
      "execution_count": null,
      "metadata": {
        "collapsed": false
      },
      "outputs": [],
      "source": [
        "metadata = model.metadata\nprint(metadata.result_info)"
      ]
    },
    {
      "cell_type": "markdown",
      "metadata": {},
      "source": [
        "The mesh region can be printed with\n"
      ]
    },
    {
      "cell_type": "code",
      "execution_count": null,
      "metadata": {
        "collapsed": false
      },
      "outputs": [],
      "source": [
        "print(metadata.meshed_region)"
      ]
    },
    {
      "cell_type": "markdown",
      "metadata": {},
      "source": [
        "and the time or frequency of the results can be printed with:\n"
      ]
    },
    {
      "cell_type": "code",
      "execution_count": null,
      "metadata": {
        "collapsed": false
      },
      "outputs": [],
      "source": [
        "print(metadata.time_freq_support)"
      ]
    },
    {
      "cell_type": "markdown",
      "metadata": {},
      "source": [
        "Extracting Displacement Results\n===============================\n\nAll results of the model can be accessed through the `results` property,\nwhich returns the `Results` class. This class contains the DPF result\noperators available to a specific result file, which are listed when\nprinting the object with `print(results)`\n\nHere, we connect the `'U'` operator with the data\\_sources, which takes\nplace automatically when running `results.displacement()`. By default,\nthis is connected to the first result set, which for this static result\nis the only result.\n"
      ]
    },
    {
      "cell_type": "code",
      "execution_count": null,
      "metadata": {
        "collapsed": false
      },
      "outputs": [],
      "source": [
        "results = model.results\ndisplacements = results.displacement()\nfields = displacements.outputs.fields_container()\n\n# finally, extract the data of the displacement field\ndisp = fields[0].data\ndisp"
      ]
    }
  ],
  "metadata": {
    "kernelspec": {
      "display_name": "Python 3",
      "language": "python",
      "name": "python3"
    },
    "language_info": {
      "codemirror_mode": {
        "name": "ipython",
        "version": 3
      },
      "file_extension": ".py",
      "mimetype": "text/x-python",
      "name": "python",
      "nbconvert_exporter": "python",
      "pygments_lexer": "ipython3",
      "version": "3.7.9"
    }
  },
  "nbformat": 4,
  "nbformat_minor": 0
}