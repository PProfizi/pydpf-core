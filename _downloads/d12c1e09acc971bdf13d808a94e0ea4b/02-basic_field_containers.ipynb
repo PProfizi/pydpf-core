{
  "cells": [
    {
      "cell_type": "code",
      "execution_count": null,
      "metadata": {
        "collapsed": false
      },
      "outputs": [],
      "source": [
        "%matplotlib inline"
      ]
    },
    {
      "cell_type": "markdown",
      "metadata": {},
      "source": [
        "Field and Field Containers Overview {#ref_basic_field_example}\n===================================\n\nOverview of the usage of fields and field containers in DPF.\n\nThe field is the main simulation data container. In numerical\nsimulations, results data are defined by values associated to entities\n(scoping), and these entities are a subset of a model (support).\n\nIn DPF, field data is always associated to its scoping and support,\nmaking the field a self-describing piece of data. A field is also\ndefined by its dimensionnality, unit, location, etc. A field can for\nexample, describe a displacement vector or norm, stresses and strains\ntensors, stresses and strains equivalent, or the minimum and maximum\nover time of any result. It can be defined on a complete model or just\non certain entities of the model based on its scoping. The data is\nstored as a vector of double values and each elementary entity has a\nnumber of components. For example, displacement will have 3 components,\na symmetrical stress matrix will have 6.\n\nA fields container is simply a collection of fields that can be indexed\njust like a Python list. Operators applied to a fields container will\nhave each individual field operated on. Fields containers are output\nfrom operators.\n"
      ]
    },
    {
      "cell_type": "code",
      "execution_count": null,
      "metadata": {
        "collapsed": false
      },
      "outputs": [],
      "source": [
        "import numpy as np\n\nfrom ansys.dpf import core as dpf\nfrom ansys.dpf.core import examples"
      ]
    },
    {
      "cell_type": "markdown",
      "metadata": {},
      "source": [
        "First, create a model object to establish a connection with an example\nresult file and then extract\n"
      ]
    },
    {
      "cell_type": "code",
      "execution_count": null,
      "metadata": {
        "collapsed": false
      },
      "outputs": [],
      "source": [
        "model = dpf.Model(examples.static_rst)\nprint(model)"
      ]
    },
    {
      "cell_type": "markdown",
      "metadata": {},
      "source": [
        "Create the displacement operator directly from the `results` property\nand extract the displacement fields container.\n"
      ]
    },
    {
      "cell_type": "code",
      "execution_count": null,
      "metadata": {
        "collapsed": false
      },
      "outputs": [],
      "source": [
        "disp_op = model.results.displacement()\nfields = disp_op.outputs.fields_container()\nprint(fields)"
      ]
    },
    {
      "cell_type": "markdown",
      "metadata": {},
      "source": [
        "A field can be extracted from a fields container by simply indexing the\nrequested field\n"
      ]
    },
    {
      "cell_type": "code",
      "execution_count": null,
      "metadata": {
        "collapsed": false
      },
      "outputs": [],
      "source": [
        "field = fields[0]\nprint(field)"
      ]
    },
    {
      "cell_type": "markdown",
      "metadata": {},
      "source": [
        "Extracting data from a field\n============================\n\nYou can extract all the data from a given field using the `data`\nproperty. This returns a `numpy` array.\n"
      ]
    },
    {
      "cell_type": "code",
      "execution_count": null,
      "metadata": {
        "collapsed": false
      },
      "outputs": [],
      "source": [
        "print(field.data)"
      ]
    },
    {
      "cell_type": "markdown",
      "metadata": {},
      "source": [
        "While it might seem preferable to work entirely within `numpy`, realize\nthat DPF runs outside of Python and potentially even on a remote\nmachine. Therefore, the transfer of unnecessary data between the DPF\ninstance and the Python client will lead to inefficient operations on\nlarge models. Instead, use DPF operators to assemble the necessary data\nbefore recalling the data from DPF.\n\nFor example, if you want the maximum displacement for a given result,\nuse the min/max operator:\n"
      ]
    },
    {
      "cell_type": "code",
      "execution_count": null,
      "metadata": {
        "collapsed": false
      },
      "outputs": [],
      "source": [
        "min_max_op = dpf.operators_helper.min_max(field)\nprint(min_max_op.outputs.field_max().data)\n\n# Out of conveience, you can simply take the max of the field with:\nprint(field.max().data)\n\n# Which all yield an identical result as:\nprint(np.max(field.data, axis=0))"
      ]
    },
    {
      "cell_type": "markdown",
      "metadata": {},
      "source": [
        "Note that the numpy array does not retain any information about the\nfield it describes. Using the DPF max operator of the field does retain\nthis information.\n"
      ]
    },
    {
      "cell_type": "code",
      "execution_count": null,
      "metadata": {
        "collapsed": false
      },
      "outputs": [],
      "source": [
        "max_field = field.max()\nprint(max_field)"
      ]
    },
    {
      "cell_type": "markdown",
      "metadata": {},
      "source": [
        "Including the Node IDs of the maximum displacements:\n"
      ]
    },
    {
      "cell_type": "code",
      "execution_count": null,
      "metadata": {
        "collapsed": false
      },
      "outputs": [],
      "source": [
        "print('Node IDs of maximum X, Y, and Z displacement:', max_field.scoping.ids)"
      ]
    }
  ],
  "metadata": {
    "kernelspec": {
      "display_name": "Python 3",
      "language": "python",
      "name": "python3"
    },
    "language_info": {
      "codemirror_mode": {
        "name": "ipython",
        "version": 3
      },
      "file_extension": ".py",
      "mimetype": "text/x-python",
      "name": "python",
      "nbconvert_exporter": "python",
      "pygments_lexer": "ipython3",
      "version": "3.7.9"
    }
  },
  "nbformat": 4,
  "nbformat_minor": 0
}