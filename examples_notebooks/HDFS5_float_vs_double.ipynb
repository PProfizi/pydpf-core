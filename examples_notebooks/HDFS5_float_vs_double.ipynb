{
 "cells": [
  {
   "cell_type": "markdown",
   "metadata": {},
   "source": [
    "# HDF5 export: Compare the size between double/simple precision"
   ]
  },
  {
   "cell_type": "markdown",
   "metadata": {},
   "source": [
    "#### 1st step : load dpf"
   ]
  },
  {
   "cell_type": "code",
   "execution_count": 1,
   "metadata": {},
   "outputs": [],
   "source": [
    "from ansys.dpf import core as dpf\n",
    "import os"
   ]
  },
  {
   "cell_type": "code",
   "execution_count": 2,
   "metadata": {
    "collapsed": true,
    "jupyter": {
     "outputs_hidden": true
    }
   },
   "outputs": [
    {
     "name": "stderr",
     "output_type": "stream",
     "text": [
      "E0114 22:06:49.777000000  5328 server_chttp2.cc:40] {\"created\":\"@1610658409.777000000\",\"description\":\"No address added out of total 1 resolved\",\"file\":\"C:\\.conan\\9877f9d9b72\\1\\grpc\\src\\core\\ext\\transport\\chttp2\\server\\chttp2_server.cc\",\"file_line\":394,\"referenced_errors\":[{\"created\":\"@1610658409.777000000\",\"description\":\"Failed to add port to server\",\"file\":\"C:\\.conan\\9877f9d9b72\\1\\grpc\\src\\core\\lib\\iomgr\\tcp_server_windows.cc\",\"file_line\":510,\"referenced_errors\":[{\"created\":\"@1610658409.777000000\",\"description\":\"OS Error\",\"file\":\"C:\\.conan\\9877f9d9b72\\1\\grpc\\src\\core\\lib\\iomgr\\tcp_server_windows.cc\",\"file_line\":201,\"os_error\":\"Only one usage of each socket address (protocol/network address/port) is normally permitted.\\r\\n\",\"syscall\":\"bind\",\"wsa_error\":10048}]}]}\n",
      "\n",
      "E0114 22:06:50.866000000  6432 server_chttp2.cc:40] {\"created\":\"@1610658410.866000000\",\"description\":\"No address added out of total 1 resolved\",\"file\":\"C:\\.conan\\9877f9d9b72\\1\\grpc\\src\\core\\ext\\transport\\chttp2\\server\\chttp2_server.cc\",\"file_line\":394,\"referenced_errors\":[{\"created\":\"@1610658410.866000000\",\"description\":\"Failed to add port to server\",\"file\":\"C:\\.conan\\9877f9d9b72\\1\\grpc\\src\\core\\lib\\iomgr\\tcp_server_windows.cc\",\"file_line\":510,\"referenced_errors\":[{\"created\":\"@1610658410.866000000\",\"description\":\"OS Error\",\"file\":\"C:\\.conan\\9877f9d9b72\\1\\grpc\\src\\core\\lib\\iomgr\\tcp_server_windows.cc\",\"file_line\":201,\"os_error\":\"Only one usage of each socket address (protocol/network address/port) is normally permitted.\\r\\n\",\"syscall\":\"bind\",\"wsa_error\":10048}]}]}\n",
      "\n",
      "E0114 22:06:51.949000000 19588 server_chttp2.cc:40] {\"created\":\"@1610658411.949000000\",\"description\":\"No address added out of total 1 resolved\",\"file\":\"C:\\.conan\\9877f9d9b72\\1\\grpc\\src\\core\\ext\\transport\\chttp2\\server\\chttp2_server.cc\",\"file_line\":394,\"referenced_errors\":[{\"created\":\"@1610658411.949000000\",\"description\":\"Failed to add port to server\",\"file\":\"C:\\.conan\\9877f9d9b72\\1\\grpc\\src\\core\\lib\\iomgr\\tcp_server_windows.cc\",\"file_line\":510,\"referenced_errors\":[{\"created\":\"@1610658411.949000000\",\"description\":\"OS Error\",\"file\":\"C:\\.conan\\9877f9d9b72\\1\\grpc\\src\\core\\lib\\iomgr\\tcp_server_windows.cc\",\"file_line\":201,\"os_error\":\"Only one usage of each socket address (protocol/network address/port) is normally permitted.\\r\\n\",\"syscall\":\"bind\",\"wsa_error\":10048}]}]}\n",
      "\n"
     ]
    }
   ],
   "source": [
    "path =  r'c:\\temp\\file_transient.rst'\n",
    "model = dpf.Model(path)"
   ]
  },
  {
   "cell_type": "markdown",
   "metadata": {
    "jupyter": {
     "source_hidden": true
    }
   },
   "source": [
    "2nd step : load the hdf5 plugin"
   ]
  },
  {
   "cell_type": "code",
   "execution_count": 3,
   "metadata": {},
   "outputs": [],
   "source": [
    "base = dpf.BaseService()\n",
    "base.load_library(\"Ans.Dpf.Hdf5.dll\",\"hdf5\")"
   ]
  },
  {
   "cell_type": "markdown",
   "metadata": {},
   "source": [
    "#### 3rd step: read stresses, displacements, and the mesh from an rst file and export it to hdf5"
   ]
  },
  {
   "cell_type": "code",
   "execution_count": 4,
   "metadata": {},
   "outputs": [],
   "source": [
    "stress = model.results.stress()\n",
    "displacement = model.results.displacement()\n",
    "mesh = model.metadata.meshed_region"
   ]
  },
  {
   "cell_type": "code",
   "execution_count": 5,
   "metadata": {},
   "outputs": [],
   "source": [
    "timeIds = list(range(1,model.metadata.time_freq_support.n_sets))"
   ]
  },
  {
   "cell_type": "markdown",
   "metadata": {},
   "source": [
    "#### By default, we only read the last time step, a user can request one or several time steps using the time_scoping input. Here we will request all time steps"
   ]
  },
  {
   "cell_type": "code",
   "execution_count": 6,
   "metadata": {},
   "outputs": [],
   "source": [
    "stress.inputs.time_scoping.connect(timeIds)\n",
    "displacement.inputs.time_scoping.connect(timeIds)"
   ]
  },
  {
   "cell_type": "code",
   "execution_count": 7,
   "metadata": {},
   "outputs": [],
   "source": [
    "fields = displacement.outputs.fields_container()"
   ]
  },
  {
   "cell_type": "code",
   "execution_count": 8,
   "metadata": {},
   "outputs": [
    {
     "data": {
      "text/plain": [
       "'Nodal'"
      ]
     },
     "execution_count": 8,
     "metadata": {},
     "output_type": "execute_result"
    }
   ],
   "source": [
    "field = fields[0]\n",
    "field.location"
   ]
  },
  {
   "cell_type": "code",
   "execution_count": 9,
   "metadata": {},
   "outputs": [],
   "source": [
    "h5op = model.operator(\"serialize_to_hdf5\")"
   ]
  },
  {
   "cell_type": "code",
   "execution_count": 10,
   "metadata": {},
   "outputs": [],
   "source": [
    "#print(h5op)"
   ]
  },
  {
   "cell_type": "markdown",
   "metadata": {},
   "source": [
    "#### export to hdf5 with simple precision"
   ]
  },
  {
   "cell_type": "code",
   "execution_count": 11,
   "metadata": {},
   "outputs": [],
   "source": [
    "h5op.inputs.file_path.connect('c:/temp/dpf_float.h5')"
   ]
  },
  {
   "cell_type": "code",
   "execution_count": 12,
   "metadata": {},
   "outputs": [],
   "source": [
    "h5op.inputs.data1.connect(stress.outputs)\n",
    "h5op.inputs.data2.connect(displacement.outputs)\n",
    "h5op.inputs.data3.connect(mesh)"
   ]
  },
  {
   "cell_type": "code",
   "execution_count": 13,
   "metadata": {},
   "outputs": [],
   "source": [
    "h5op.run()"
   ]
  },
  {
   "cell_type": "markdown",
   "metadata": {},
   "source": [
    "#### export to hdf5 with double precision"
   ]
  },
  {
   "cell_type": "code",
   "execution_count": 14,
   "metadata": {},
   "outputs": [],
   "source": [
    "h5op.inputs.export_floats.connect(False)"
   ]
  },
  {
   "cell_type": "code",
   "execution_count": 15,
   "metadata": {},
   "outputs": [],
   "source": [
    "h5op.inputs.file_path.connect('c:/temp/dpf_double.h5')"
   ]
  },
  {
   "cell_type": "code",
   "execution_count": 16,
   "metadata": {},
   "outputs": [],
   "source": [
    "h5op.run()"
   ]
  },
  {
   "cell_type": "code",
   "execution_count": null,
   "metadata": {},
   "outputs": [],
   "source": []
  }
 ],
 "metadata": {
  "kernelspec": {
   "display_name": "Python 3",
   "language": "python",
   "name": "python3"
  },
  "language_info": {
   "codemirror_mode": {
    "name": "ipython",
    "version": 3
   },
   "file_extension": ".py",
   "mimetype": "text/x-python",
   "name": "python",
   "nbconvert_exporter": "python",
   "pygments_lexer": "ipython3",
   "version": "3.7.9"
  },
  "widgets": {
   "application/vnd.jupyter.widget-state+json": {
    "state": {},
    "version_major": 2,
    "version_minor": 0
   }
  }
 },
 "nbformat": 4,
 "nbformat_minor": 4
}
